{
 "cells": [
  {
   "cell_type": "markdown",
   "metadata": {},
   "source": [
    "# Recurrent Neural Networks\n",
    "\n",
    "### Practical Session\n",
    "\n",
    "<br/> Prof. Dr. Georgios K. Ouzounis\n",
    "<br/> email: georgios.ouzounis@go.kauko.lt\n",
    "<br/>Changed to MasterCard by Rokas Kilčiauskas KT-9/1\n",
    "<br/>email: rokas.ki9765@go.kauko.lt\n",
    "<br/>I used MasterCard stocks From 2009 January 1st to 2019 December 31st (10 years) for better training to get better predictions. \n",
    "<br/>Number of time step: 90"
   ]
  },
  {
   "cell_type": "markdown",
   "metadata": {},
   "source": [
    "## Contents\n",
    "\n",
    "1. Data loading and pre-processing\n",
    "2. Building the RNN\n",
    "3. Train and deploy the RNN\n",
    "4. Improving the RNN"
   ]
  },
  {
   "cell_type": "markdown",
   "metadata": {},
   "source": [
    "## Challenge"
   ]
  },
  {
   "cell_type": "markdown",
   "metadata": {},
   "source": [
    "Given a 5-year history of the Google Stock prices predict the stock values for the period of the recent most month that are not included in the historical data."
   ]
  },
  {
   "cell_type": "markdown",
   "metadata": {},
   "source": [
    "## Data loading and pre-processing"
   ]
  },
  {
   "cell_type": "markdown",
   "metadata": {},
   "source": [
    "### Download the data-sets\n",
    "\n",
    "The data-sets are two comma-separated values files (CSV) and contain a data table of 1258 records for training and a table of 21 records for testing.\n",
    "\n",
    "They can be found at the [Kaggle.com website](https://www.kaggle.com/akram24/google-stock-price-train) or at various web locations after searching for the filenames: \n",
    "\n",
    "**Google_Stock_Price_Test.csv** and **Google_Stock_Price_Train.csv**\n",
    "\n",
    "Known alternative location: Github user [pdway53](https://github.com/pdway53/Predict_Google_Stock_Price_RNN) \n",
    "\n",
    "Open a terminal and use the wget command to get it of the selected location. Example:\n",
    "\n",
    "```shell\n",
    "wget https://raw.githubusercontent.com/pdway53/Predict_Google_Stock_Price_RNN/master/Google_Stock_Price_Test.csv\n",
    "\n",
    "wget https://raw.githubusercontent.com/pdway53/Predict_Google_Stock_Price_RNN/master/Google_Stock_Price_Train.csv \n",
    "```\n"
   ]
  },
  {
   "cell_type": "markdown",
   "metadata": {},
   "source": [
    "### Import libraries\n",
    "\n",
    "We need 3 main libraries:\n",
    "\n",
    "- [Numpy](http://www.numpy.org): it is the fundamental package for scientific computing with Python. It contains among other things a powerful N-dimensional array object that can be used as an efficient multi-dimensional container of generic data. Arbitrary data-types can be defined.\n",
    "- [matplotlib](https://matplotlib.org):  it is a Python 2D plotting library which produces publication quality figures in a variety of hardcopy formats and interactive environments across platforms.\n",
    "- [pandas](https://pandas.pydata.org): is a software library written for the Python programming language for data manipulation and analysis. In particular, it offers data structures and operations for manipulating numerical tables and time series."
   ]
  },
  {
   "cell_type": "code",
   "execution_count": 1,
   "metadata": {},
   "outputs": [],
   "source": [
    "# importing the libraries\n",
    "import numpy as np\n",
    "import matplotlib.pyplot as plt\n",
    "import pandas as pd"
   ]
  },
  {
   "cell_type": "markdown",
   "metadata": {},
   "source": [
    "### Import the dataset"
   ]
  },
  {
   "cell_type": "markdown",
   "metadata": {},
   "source": [
    "Dataset description: the open high, low and close values of the MasterCard Stock from 2009 to 2019. [Relevant code here](https://github.com/RokasKilc)\n"
   ]
  },
  {
   "cell_type": "code",
   "execution_count": 2,
   "metadata": {},
   "outputs": [],
   "source": [
    "#importing the dataset\n",
    "\n",
    "# load the file contents \n",
    "dataset_train = pd.read_csv('Mastercard_Train.csv')"
   ]
  },
  {
   "cell_type": "code",
   "execution_count": 3,
   "metadata": {},
   "outputs": [
    {
     "data": {
      "text/html": [
       "<div>\n",
       "<style scoped>\n",
       "    .dataframe tbody tr th:only-of-type {\n",
       "        vertical-align: middle;\n",
       "    }\n",
       "\n",
       "    .dataframe tbody tr th {\n",
       "        vertical-align: top;\n",
       "    }\n",
       "\n",
       "    .dataframe thead th {\n",
       "        text-align: right;\n",
       "    }\n",
       "</style>\n",
       "<table border=\"1\" class=\"dataframe\">\n",
       "  <thead>\n",
       "    <tr style=\"text-align: right;\">\n",
       "      <th></th>\n",
       "      <th>Date</th>\n",
       "      <th>Open</th>\n",
       "      <th>High</th>\n",
       "      <th>Low</th>\n",
       "      <th>Close</th>\n",
       "      <th>Adj Close</th>\n",
       "      <th>Volume</th>\n",
       "    </tr>\n",
       "  </thead>\n",
       "  <tbody>\n",
       "    <tr>\n",
       "      <th>0</th>\n",
       "      <td>2009-01-02</td>\n",
       "      <td>14.410</td>\n",
       "      <td>15.070000</td>\n",
       "      <td>14.273</td>\n",
       "      <td>14.978</td>\n",
       "      <td>14.029945</td>\n",
       "      <td>22311000</td>\n",
       "    </tr>\n",
       "    <tr>\n",
       "      <th>1</th>\n",
       "      <td>2009-01-05</td>\n",
       "      <td>14.955</td>\n",
       "      <td>15.684000</td>\n",
       "      <td>14.903</td>\n",
       "      <td>15.326</td>\n",
       "      <td>14.355920</td>\n",
       "      <td>24719000</td>\n",
       "    </tr>\n",
       "    <tr>\n",
       "      <th>2</th>\n",
       "      <td>2009-01-06</td>\n",
       "      <td>15.626</td>\n",
       "      <td>16.500000</td>\n",
       "      <td>15.529</td>\n",
       "      <td>16.202</td>\n",
       "      <td>15.176473</td>\n",
       "      <td>43357000</td>\n",
       "    </tr>\n",
       "    <tr>\n",
       "      <th>3</th>\n",
       "      <td>2009-01-07</td>\n",
       "      <td>15.810</td>\n",
       "      <td>16.061001</td>\n",
       "      <td>14.911</td>\n",
       "      <td>15.207</td>\n",
       "      <td>14.257652</td>\n",
       "      <td>39537000</td>\n",
       "    </tr>\n",
       "    <tr>\n",
       "      <th>4</th>\n",
       "      <td>2009-01-08</td>\n",
       "      <td>15.096</td>\n",
       "      <td>15.296000</td>\n",
       "      <td>14.836</td>\n",
       "      <td>15.278</td>\n",
       "      <td>14.324217</td>\n",
       "      <td>22841000</td>\n",
       "    </tr>\n",
       "  </tbody>\n",
       "</table>\n",
       "</div>"
      ],
      "text/plain": [
       "         Date    Open       High     Low   Close  Adj Close    Volume\n",
       "0  2009-01-02  14.410  15.070000  14.273  14.978  14.029945  22311000\n",
       "1  2009-01-05  14.955  15.684000  14.903  15.326  14.355920  24719000\n",
       "2  2009-01-06  15.626  16.500000  15.529  16.202  15.176473  43357000\n",
       "3  2009-01-07  15.810  16.061001  14.911  15.207  14.257652  39537000\n",
       "4  2009-01-08  15.096  15.296000  14.836  15.278  14.324217  22841000"
      ]
     },
     "execution_count": 3,
     "metadata": {},
     "output_type": "execute_result"
    }
   ],
   "source": [
    "dataset_train.head()"
   ]
  },
  {
   "cell_type": "code",
   "execution_count": 4,
   "metadata": {},
   "outputs": [],
   "source": [
    "# Create a subtable of relevant entries (open values)\n",
    "# The .values makes this vector a numpy array\n",
    "training_set = dataset_train.iloc[:, 1:2].values "
   ]
  },
  {
   "cell_type": "code",
   "execution_count": 5,
   "metadata": {
    "scrolled": true
   },
   "outputs": [
    {
     "data": {
      "text/plain": [
       "array([[ 14.41    ],\n",
       "       [ 14.955   ],\n",
       "       [ 15.626   ],\n",
       "       ...,\n",
       "       [280.600006],\n",
       "       [283.119995],\n",
       "       [279.339996]])"
      ]
     },
     "execution_count": 5,
     "metadata": {},
     "output_type": "execute_result"
    }
   ],
   "source": [
    "training_set"
   ]
  },
  {
   "cell_type": "markdown",
   "metadata": {},
   "source": [
    "Numpy arrays do not support the view() and head() methods. [More on accessing the numpy data](https://jakevdp.github.io/PythonDataScienceHandbook/02.02-the-basics-of-numpy-arrays.html)\n"
   ]
  },
  {
   "cell_type": "markdown",
   "metadata": {},
   "source": [
    "### Feature Scaling\n",
    "\n",
    "Next we need to rescale our data to the range from 0 to 1. \n",
    "\n",
    "Feature scaling is essential as discussed if the Features lecture and needs to be applied to both the training and test sets.\n",
    "\n",
    "It is computed using the ScikitLearn library [MinMaxScaler()](http://scikit-learn.org/stable/modules/generated/sklearn.preprocessing.MinMaxScaler.html#sklearn.preprocessing.MinMaxScaler) which transforms the selected feature by scaling it to a given range. If more than one, this estimator scales and translates each feature individually such that it is in the given range on the training set, i.e. between zero and one."
   ]
  },
  {
   "cell_type": "code",
   "execution_count": 6,
   "metadata": {},
   "outputs": [],
   "source": [
    "# Feature Scaling\n",
    "\n",
    "# import the MinMaxScaler\n",
    "from sklearn.preprocessing import MinMaxScaler"
   ]
  },
  {
   "cell_type": "code",
   "execution_count": 7,
   "metadata": {},
   "outputs": [],
   "source": [
    "# create a scaler instance to rescale all data to the range of 0.0 to 1.0 \n",
    "sc = MinMaxScaler(feature_range = (0, 1))"
   ]
  },
  {
   "cell_type": "code",
   "execution_count": 8,
   "metadata": {},
   "outputs": [],
   "source": [
    "# create the actual training set of scaled values\n",
    "training_set_scaled = sc.fit_transform(training_set)"
   ]
  },
  {
   "cell_type": "code",
   "execution_count": 9,
   "metadata": {},
   "outputs": [
    {
     "data": {
      "text/plain": [
       "array([[0.00852336],\n",
       "       [0.01053428],\n",
       "       [0.01301011],\n",
       "       ...,\n",
       "       [0.99070183],\n",
       "       [1.        ],\n",
       "       [0.98605269]])"
      ]
     },
     "execution_count": 9,
     "metadata": {},
     "output_type": "execute_result"
    }
   ],
   "source": [
    "training_set_scaled"
   ]
  },
  {
   "cell_type": "markdown",
   "metadata": {},
   "source": [
    "### Splitting the training set to dependent and independent variables"
   ]
  },
  {
   "cell_type": "markdown",
   "metadata": {},
   "source": [
    "<img src=\"https://drive.google.com/uc?id=1bckuLGZCeLUzNA-xJCGOODzC-4n2U-If\"/>"
   ]
  },
  {
   "cell_type": "code",
   "execution_count": 10,
   "metadata": {},
   "outputs": [],
   "source": [
    "# Creating a data structure with 90 timesteps and 1 output\n",
    "\n",
    "# the 90 stock prices in the last 3 months before today\n",
    "X_train = [] "
   ]
  },
  {
   "cell_type": "code",
   "execution_count": 11,
   "metadata": {},
   "outputs": [
    {
     "data": {
      "text/plain": [
       "(2661, 1)"
      ]
     },
     "execution_count": 11,
     "metadata": {},
     "output_type": "execute_result"
    }
   ],
   "source": [
    "# Find traning range (rows in .cvs file)\n",
    "training_set_scaled.shape"
   ]
  },
  {
   "cell_type": "code",
   "execution_count": 12,
   "metadata": {},
   "outputs": [],
   "source": [
    "# the stock price today\n",
    "y_train = [] "
   ]
  },
  {
   "cell_type": "code",
   "execution_count": 13,
   "metadata": {},
   "outputs": [],
   "source": [
    "# go back 90 days\n",
    "for i in range(90, 2661): \n",
    "    # 0 is the column ID, the only column in this case.    \n",
    "    # put the last 90 days values in one row of X_train\n",
    "    X_train.append(training_set_scaled[i-90:i, 0]) \n",
    "    y_train.append(training_set_scaled[i, 0])\n"
   ]
  },
  {
   "cell_type": "code",
   "execution_count": 14,
   "metadata": {},
   "outputs": [],
   "source": [
    "X_train, y_train = np.array(X_train), np.array(y_train)"
   ]
  },
  {
   "cell_type": "code",
   "execution_count": 15,
   "metadata": {},
   "outputs": [
    {
     "data": {
      "text/plain": [
       "array([[0.00852336, 0.01053428, 0.01301011, ..., 0.02280275, 0.02235997,\n",
       "        0.02268837],\n",
       "       [0.01053428, 0.01301011, 0.01368903, ..., 0.02235997, 0.02268837,\n",
       "        0.01955575],\n",
       "       [0.01301011, 0.01368903, 0.01105453, ..., 0.02268837, 0.01955575,\n",
       "        0.01807985],\n",
       "       ...,\n",
       "       [0.80968193, 0.80300347, 0.79735813, ..., 0.98848795, 0.98173573,\n",
       "        0.98848795],\n",
       "       [0.80300347, 0.79735813, 0.82185817, ..., 0.98173573, 0.98848795,\n",
       "        0.99070183],\n",
       "       [0.79735813, 0.82185817, 0.80543872, ..., 0.98848795, 0.99070183,\n",
       "        1.        ]])"
      ]
     },
     "execution_count": 15,
     "metadata": {},
     "output_type": "execute_result"
    }
   ],
   "source": [
    "X_train"
   ]
  },
  {
   "cell_type": "markdown",
   "metadata": {},
   "source": [
    "### Reshaping the Matrix\n",
    "\n",
    "We need to add a new matrix dimension to accommodate the indicator (predictor). \n",
    "\n",
    "NumPy matrices are tensors (3D) and essentially we need to specify that our matrix consists of **90 days** (dimension x) times **total days in data set** (dimension y) times **1 value per matrix cell (scalar)** (dimension z)"
   ]
  },
  {
   "cell_type": "markdown",
   "metadata": {},
   "source": [
    "<img src=\"https://cdn.pixabay.com/photo/2015/03/22/17/34/cubic-684961_1280.jpg\" width=\"500\" align=\"left\"/>"
   ]
  },
  {
   "cell_type": "markdown",
   "metadata": {},
   "source": [
    "If we were to add the stock value of somebody else together with the the past 90 days of MasterCard, we need to change the length of the 3 dimension to  2.  RNN training tables are 3D!!! Read: [Reshaping NumPy Array | Numpy Array Reshape Examples](https://backtobazics.com/python/python-reshaping-numpy-array-examples/)"
   ]
  },
  {
   "cell_type": "code",
   "execution_count": 16,
   "metadata": {},
   "outputs": [],
   "source": [
    "# Reshaping the data matrix, we retain the 2 original dimensions and add a third of depth=1\n",
    "X_train = np.reshape(X_train, (X_train.shape[0], X_train.shape[1], 1))"
   ]
  },
  {
   "cell_type": "markdown",
   "metadata": {},
   "source": [
    "## Building the RNN"
   ]
  },
  {
   "cell_type": "markdown",
   "metadata": {},
   "source": [
    "### RNN initialization\n",
    "\n",
    "- Import the sequential model from the Keras API;\n",
    "- Import the Dense layer template from the Keras API;\n",
    "- Import the LSTM model from the Keras API\n",
    "- Create an instance of the sequential model called regressor because we want to predict a continuous value"
   ]
  },
  {
   "cell_type": "code",
   "execution_count": 18,
   "metadata": {},
   "outputs": [],
   "source": [
    "# Importing the Keras libraries and packages\n",
    "from keras.models import Sequential\n",
    "from keras.layers import Dense\n",
    "from keras.layers import LSTM\n",
    "from keras.layers import Dropout"
   ]
  },
  {
   "cell_type": "code",
   "execution_count": 19,
   "metadata": {},
   "outputs": [],
   "source": [
    "# Initialising the RNN as a sequence of layers\n",
    "regressor = Sequential()"
   ]
  },
  {
   "cell_type": "markdown",
   "metadata": {},
   "source": [
    "### Add First Layer\n",
    "\n",
    "We first add an object of the LSTM class! \n",
    "\n",
    "- The first argument is the number of units or LSTM memory cells. Include many neurons to address the high dimensionality of the problem; say 50 neurons! \n",
    "- Second arg: return sequences = true; stacked LSTM !\n",
    "- Third arg: input 3D shape: observations vs time steps vs number of indicators"
   ]
  },
  {
   "cell_type": "code",
   "execution_count": 20,
   "metadata": {},
   "outputs": [],
   "source": [
    "# Adding the input layer and the LSTM layer\n",
    "regressor.add(LSTM(units = 50, return_sequences = True, input_shape =  (X_train.shape[1], 1)))"
   ]
  },
  {
   "cell_type": "code",
   "execution_count": 21,
   "metadata": {},
   "outputs": [],
   "source": [
    "# the argument is the dropout rate to ignore in the layers (20%), \n",
    "# i.e. 50 units * 20% = 10 units will be dropped each time\n",
    "regressor.add(Dropout(0.2))\n"
   ]
  },
  {
   "cell_type": "markdown",
   "metadata": {},
   "source": [
    "### Add More Layers\n",
    "\n",
    "We can add more LSTM layers but along with Dropout regularization to make sure we avoid overfitting! \n",
    "\n",
    "We don’t need to add the shape of the layer again because it is recognized automatically from the number of input units.\n",
    "\n",
    "The last layer does not return a sequence but connected directly to a fully connected output layer.\n"
   ]
  },
  {
   "cell_type": "code",
   "execution_count": 22,
   "metadata": {},
   "outputs": [],
   "source": [
    "# Adding a second LSTM layer and some Dropout regularisation\n",
    "regressor.add(LSTM(units = 50, return_sequences = True))\n",
    "regressor.add(Dropout(0.2))"
   ]
  },
  {
   "cell_type": "code",
   "execution_count": 23,
   "metadata": {},
   "outputs": [],
   "source": [
    "# Adding a third LSTM layer and some Dropout regularisation\n",
    "regressor.add(LSTM(units = 50, return_sequences = True))\n",
    "regressor.add(Dropout(0.2))"
   ]
  },
  {
   "cell_type": "code",
   "execution_count": 24,
   "metadata": {},
   "outputs": [],
   "source": [
    "# Adding a fourth LSTM layer and some Dropout regularisation\n",
    "# we removed the return_sequences because we no longer return a \n",
    "# sequence but a value instead\n",
    "regressor.add(LSTM(units = 50))\n",
    "regressor.add(Dropout(0.2))"
   ]
  },
  {
   "cell_type": "markdown",
   "metadata": {},
   "source": [
    "### Add Output Layer & Compile\n",
    "\n",
    "The output has 1 dimension , i.e. one value to be predicted thus or output fully connected layer has dimensionality = 1.\n",
    "\n",
    "- **Optimizer**: rmsprop is recommended in the Keras documentation. The Adam optimizer is also a powerful choice.\n",
    "- **Loss function**: regression problems take the mean square error as most common"
   ]
  },
  {
   "cell_type": "code",
   "execution_count": 25,
   "metadata": {},
   "outputs": [],
   "source": [
    "# Adding the output layer\n",
    "regressor.add(Dense(units = 1))"
   ]
  },
  {
   "cell_type": "code",
   "execution_count": 26,
   "metadata": {},
   "outputs": [],
   "source": [
    "# Compiling the RNN\n",
    "regressor.compile(optimizer = 'adam', loss = 'mean_squared_error')"
   ]
  },
  {
   "cell_type": "markdown",
   "metadata": {},
   "source": [
    "## Train and deploy the RNN"
   ]
  },
  {
   "cell_type": "markdown",
   "metadata": {},
   "source": [
    "### Fit the RNN to the Training set\n",
    "\n",
    "We now want to train our RNN using the data in our **Training Set X** and **predictors in y** (ground truth in this case). Parameters that can be specified are the:\n",
    "\n",
    "- **Batch size**:  update the cell weights not on every stock price on every batch_size values; \n",
    "- **Number of epochs**: how many iterations to be used, i.e. number of forward and backward propagations for the update of the weights\n"
   ]
  },
  {
   "cell_type": "code",
   "execution_count": 27,
   "metadata": {},
   "outputs": [
    {
     "name": "stdout",
     "output_type": "stream",
     "text": [
      "Epoch 1/100\n",
      "81/81 [==============================] - 18s 223ms/step - loss: 0.0078\n",
      "Epoch 2/100\n",
      "81/81 [==============================] - 18s 224ms/step - loss: 0.0017\n",
      "Epoch 3/100\n",
      "81/81 [==============================] - 17s 215ms/step - loss: 0.0015\n",
      "Epoch 4/100\n",
      "81/81 [==============================] - 17s 213ms/step - loss: 0.0013\n",
      "Epoch 5/100\n",
      "81/81 [==============================] - 18s 227ms/step - loss: 0.0013\n",
      "Epoch 6/100\n",
      "81/81 [==============================] - 18s 221ms/step - loss: 0.0013\n",
      "Epoch 7/100\n",
      "81/81 [==============================] - 18s 219ms/step - loss: 0.0013\n",
      "Epoch 8/100\n",
      "81/81 [==============================] - 19s 232ms/step - loss: 0.0011\n",
      "Epoch 9/100\n",
      "81/81 [==============================] - 18s 226ms/step - loss: 9.5853e-04\n",
      "Epoch 10/100\n",
      "81/81 [==============================] - 19s 231ms/step - loss: 0.0010\n",
      "Epoch 11/100\n",
      "81/81 [==============================] - 18s 226ms/step - loss: 0.0012\n",
      "Epoch 12/100\n",
      "81/81 [==============================] - 18s 223ms/step - loss: 9.5615e-04\n",
      "Epoch 13/100\n",
      "81/81 [==============================] - 18s 218ms/step - loss: 0.0010\n",
      "Epoch 14/100\n",
      "81/81 [==============================] - 19s 235ms/step - loss: 9.3163e-04\n",
      "Epoch 15/100\n",
      "81/81 [==============================] - 20s 249ms/step - loss: 7.9117e-04\n",
      "Epoch 16/100\n",
      "81/81 [==============================] - 21s 254ms/step - loss: 8.5629e-04\n",
      "Epoch 17/100\n",
      "81/81 [==============================] - 18s 225ms/step - loss: 8.9617e-04\n",
      "Epoch 18/100\n",
      "81/81 [==============================] - 18s 218ms/step - loss: 8.2639e-04\n",
      "Epoch 19/100\n",
      "81/81 [==============================] - 19s 236ms/step - loss: 7.4921e-04\n",
      "Epoch 20/100\n",
      "81/81 [==============================] - 20s 249ms/step - loss: 7.8363e-04\n",
      "Epoch 21/100\n",
      "81/81 [==============================] - 20s 241ms/step - loss: 9.3652e-04\n",
      "Epoch 22/100\n",
      "81/81 [==============================] - 19s 234ms/step - loss: 8.7237e-04\n",
      "Epoch 23/100\n",
      "81/81 [==============================] - 18s 224ms/step - loss: 8.8290e-04\n",
      "Epoch 24/100\n",
      "81/81 [==============================] - 19s 231ms/step - loss: 8.9868e-04\n",
      "Epoch 25/100\n",
      "81/81 [==============================] - 19s 235ms/step - loss: 7.8181e-04\n",
      "Epoch 26/100\n",
      "81/81 [==============================] - 19s 231ms/step - loss: 8.1412e-04\n",
      "Epoch 27/100\n",
      "81/81 [==============================] - 18s 228ms/step - loss: 7.7944e-04\n",
      "Epoch 28/100\n",
      "81/81 [==============================] - 19s 232ms/step - loss: 9.9252e-04\n",
      "Epoch 29/100\n",
      "81/81 [==============================] - 19s 237ms/step - loss: 8.2473e-04\n",
      "Epoch 30/100\n",
      "81/81 [==============================] - 19s 237ms/step - loss: 6.9817e-04\n",
      "Epoch 31/100\n",
      "81/81 [==============================] - 20s 248ms/step - loss: 6.9901e-04\n",
      "Epoch 32/100\n",
      "81/81 [==============================] - 20s 242ms/step - loss: 7.5735e-04\n",
      "Epoch 33/100\n",
      "81/81 [==============================] - 22s 270ms/step - loss: 6.0921e-04\n",
      "Epoch 34/100\n",
      "81/81 [==============================] - 19s 235ms/step - loss: 8.2301e-04\n",
      "Epoch 35/100\n",
      "81/81 [==============================] - 20s 252ms/step - loss: 6.4080e-04\n",
      "Epoch 36/100\n",
      "81/81 [==============================] - 19s 229ms/step - loss: 6.2999e-04\n",
      "Epoch 37/100\n",
      "81/81 [==============================] - 19s 230ms/step - loss: 6.3762e-04\n",
      "Epoch 38/100\n",
      "81/81 [==============================] - 18s 227ms/step - loss: 6.6296e-04\n",
      "Epoch 39/100\n",
      "81/81 [==============================] - 18s 226ms/step - loss: 6.1328e-04\n",
      "Epoch 40/100\n",
      "81/81 [==============================] - 18s 224ms/step - loss: 6.0698e-04\n",
      "Epoch 41/100\n",
      "81/81 [==============================] - 18s 221ms/step - loss: 6.4430e-04\n",
      "Epoch 42/100\n",
      "81/81 [==============================] - 18s 226ms/step - loss: 6.7155e-04\n",
      "Epoch 43/100\n",
      "81/81 [==============================] - 18s 222ms/step - loss: 6.2189e-04\n",
      "Epoch 44/100\n",
      "81/81 [==============================] - 20s 244ms/step - loss: 6.8977e-04\n",
      "Epoch 45/100\n",
      "81/81 [==============================] - 19s 231ms/step - loss: 7.0300e-04\n",
      "Epoch 46/100\n",
      "81/81 [==============================] - 19s 229ms/step - loss: 7.0502e-04\n",
      "Epoch 47/100\n",
      "81/81 [==============================] - 18s 227ms/step - loss: 8.3699e-04\n",
      "Epoch 48/100\n",
      "81/81 [==============================] - 18s 223ms/step - loss: 6.6404e-04\n",
      "Epoch 49/100\n",
      "81/81 [==============================] - 20s 246ms/step - loss: 6.1981e-04\n",
      "Epoch 50/100\n",
      "81/81 [==============================] - 19s 239ms/step - loss: 6.8952e-04\n",
      "Epoch 51/100\n",
      "81/81 [==============================] - 20s 248ms/step - loss: 5.8725e-04\n",
      "Epoch 52/100\n",
      "81/81 [==============================] - 19s 234ms/step - loss: 6.0910e-04\n",
      "Epoch 53/100\n",
      "81/81 [==============================] - 18s 218ms/step - loss: 6.5349e-04\n",
      "Epoch 54/100\n",
      "81/81 [==============================] - 18s 223ms/step - loss: 5.9527e-04\n",
      "Epoch 55/100\n",
      "81/81 [==============================] - 19s 233ms/step - loss: 6.2924e-04\n",
      "Epoch 56/100\n",
      "81/81 [==============================] - 19s 233ms/step - loss: 6.6357e-04\n",
      "Epoch 57/100\n",
      "81/81 [==============================] - 19s 240ms/step - loss: 6.1556e-04\n",
      "Epoch 58/100\n",
      "81/81 [==============================] - 19s 235ms/step - loss: 6.5588e-04\n",
      "Epoch 59/100\n",
      "81/81 [==============================] - 19s 234ms/step - loss: 7.8391e-04\n",
      "Epoch 60/100\n",
      "81/81 [==============================] - 19s 234ms/step - loss: 5.3933e-04\n",
      "Epoch 61/100\n",
      "81/81 [==============================] - 20s 245ms/step - loss: 6.1025e-04\n",
      "Epoch 62/100\n",
      "81/81 [==============================] - 20s 245ms/step - loss: 7.4475e-04\n",
      "Epoch 63/100\n",
      "81/81 [==============================] - 19s 231ms/step - loss: 6.1328e-04\n",
      "Epoch 64/100\n",
      "81/81 [==============================] - 19s 238ms/step - loss: 4.8114e-04\n",
      "Epoch 65/100\n",
      "81/81 [==============================] - 19s 237ms/step - loss: 5.5318e-04\n",
      "Epoch 66/100\n",
      "81/81 [==============================] - 19s 232ms/step - loss: 5.8555e-04\n",
      "Epoch 67/100\n",
      "81/81 [==============================] - 18s 227ms/step - loss: 5.9393e-04\n",
      "Epoch 68/100\n",
      "81/81 [==============================] - 21s 259ms/step - loss: 6.0370e-04\n",
      "Epoch 69/100\n",
      "81/81 [==============================] - 19s 233ms/step - loss: 5.6087e-04\n",
      "Epoch 70/100\n",
      "81/81 [==============================] - 18s 228ms/step - loss: 5.2548e-04\n",
      "Epoch 71/100\n",
      "81/81 [==============================] - 18s 222ms/step - loss: 5.5901e-04\n",
      "Epoch 72/100\n",
      "81/81 [==============================] - 18s 228ms/step - loss: 5.5302e-04\n",
      "Epoch 73/100\n",
      "81/81 [==============================] - 18s 225ms/step - loss: 5.9640e-04\n",
      "Epoch 74/100\n",
      "81/81 [==============================] - 18s 221ms/step - loss: 5.1869e-04\n",
      "Epoch 75/100\n",
      "81/81 [==============================] - 18s 221ms/step - loss: 6.1897e-04\n",
      "Epoch 76/100\n",
      "81/81 [==============================] - 18s 223ms/step - loss: 5.8773e-04\n",
      "Epoch 77/100\n",
      "81/81 [==============================] - 18s 228ms/step - loss: 7.2073e-04\n",
      "Epoch 78/100\n",
      "81/81 [==============================] - 19s 232ms/step - loss: 5.9310e-04\n",
      "Epoch 79/100\n",
      "81/81 [==============================] - 19s 234ms/step - loss: 6.3541e-04\n",
      "Epoch 80/100\n",
      "81/81 [==============================] - 18s 226ms/step - loss: 5.7147e-04\n",
      "Epoch 81/100\n",
      "81/81 [==============================] - 18s 227ms/step - loss: 6.2579e-04\n",
      "Epoch 82/100\n",
      "81/81 [==============================] - 19s 233ms/step - loss: 6.0245e-04\n",
      "Epoch 83/100\n",
      "81/81 [==============================] - 18s 226ms/step - loss: 5.5703e-04\n",
      "Epoch 84/100\n",
      "81/81 [==============================] - 18s 228ms/step - loss: 5.9746e-04\n",
      "Epoch 85/100\n",
      "81/81 [==============================] - 18s 227ms/step - loss: 5.5819e-04\n",
      "Epoch 86/100\n",
      "81/81 [==============================] - 19s 232ms/step - loss: 5.3977e-04\n",
      "Epoch 87/100\n",
      "81/81 [==============================] - 21s 262ms/step - loss: 5.3467e-04\n",
      "Epoch 88/100\n",
      "81/81 [==============================] - 21s 262ms/step - loss: 5.3746e-04\n",
      "Epoch 89/100\n",
      "81/81 [==============================] - 22s 278ms/step - loss: 5.6048e-04\n",
      "Epoch 90/100\n",
      "81/81 [==============================] - 21s 264ms/step - loss: 6.1913e-04\n",
      "Epoch 91/100\n",
      "81/81 [==============================] - 20s 249ms/step - loss: 5.5034e-04\n",
      "Epoch 92/100\n",
      "81/81 [==============================] - 22s 266ms/step - loss: 5.3532e-04\n",
      "Epoch 93/100\n",
      "81/81 [==============================] - 21s 257ms/step - loss: 5.5844e-04\n",
      "Epoch 94/100\n",
      "81/81 [==============================] - 21s 264ms/step - loss: 5.6254e-04\n",
      "Epoch 95/100\n",
      "81/81 [==============================] - 21s 261ms/step - loss: 5.5423e-04\n",
      "Epoch 96/100\n",
      "81/81 [==============================] - 20s 244ms/step - loss: 5.3678e-04\n",
      "Epoch 97/100\n",
      "81/81 [==============================] - 21s 262ms/step - loss: 5.8838e-04\n",
      "Epoch 98/100\n",
      "81/81 [==============================] - 21s 261ms/step - loss: 5.3549e-04\n",
      "Epoch 99/100\n",
      "81/81 [==============================] - 19s 230ms/step - loss: 5.1501e-04\n",
      "Epoch 100/100\n",
      "81/81 [==============================] - 19s 231ms/step - loss: 5.8773e-04\n"
     ]
    },
    {
     "data": {
      "text/plain": [
       "<tensorflow.python.keras.callbacks.History at 0x7f65b40d5310>"
      ]
     },
     "execution_count": 27,
     "metadata": {},
     "output_type": "execute_result"
    }
   ],
   "source": [
    "# Fitting the RNN to the Training set\n",
    "regressor.fit(X_train, y_train, epochs = 100, batch_size = 32)"
   ]
  },
  {
   "cell_type": "markdown",
   "metadata": {},
   "source": [
    "### Computing Predictions\n",
    "\n",
    "Create a data-frame by importing the MasterCard Stock Price Test set for January 2017 using pandas and make it a numpy array.\n",
    "\n",
    "There are 20 financial days in one month, weekends are excluded!\n"
   ]
  },
  {
   "cell_type": "code",
   "execution_count": 28,
   "metadata": {},
   "outputs": [
    {
     "data": {
      "text/html": [
       "<div>\n",
       "<style scoped>\n",
       "    .dataframe tbody tr th:only-of-type {\n",
       "        vertical-align: middle;\n",
       "    }\n",
       "\n",
       "    .dataframe tbody tr th {\n",
       "        vertical-align: top;\n",
       "    }\n",
       "\n",
       "    .dataframe thead th {\n",
       "        text-align: right;\n",
       "    }\n",
       "</style>\n",
       "<table border=\"1\" class=\"dataframe\">\n",
       "  <thead>\n",
       "    <tr style=\"text-align: right;\">\n",
       "      <th></th>\n",
       "      <th>Date</th>\n",
       "      <th>Open</th>\n",
       "      <th>High</th>\n",
       "      <th>Low</th>\n",
       "      <th>Close</th>\n",
       "      <th>Adj Close</th>\n",
       "      <th>Volume</th>\n",
       "    </tr>\n",
       "  </thead>\n",
       "  <tbody>\n",
       "    <tr>\n",
       "      <th>0</th>\n",
       "      <td>2019-08-01</td>\n",
       "      <td>273.929993</td>\n",
       "      <td>279.309998</td>\n",
       "      <td>271.640015</td>\n",
       "      <td>274.160004</td>\n",
       "      <td>272.359222</td>\n",
       "      <td>4988100</td>\n",
       "    </tr>\n",
       "    <tr>\n",
       "      <th>1</th>\n",
       "      <td>2019-08-02</td>\n",
       "      <td>272.000000</td>\n",
       "      <td>272.500000</td>\n",
       "      <td>265.679993</td>\n",
       "      <td>269.450012</td>\n",
       "      <td>267.680206</td>\n",
       "      <td>4438000</td>\n",
       "    </tr>\n",
       "    <tr>\n",
       "      <th>2</th>\n",
       "      <td>2019-08-05</td>\n",
       "      <td>260.000000</td>\n",
       "      <td>262.649994</td>\n",
       "      <td>253.899994</td>\n",
       "      <td>256.839996</td>\n",
       "      <td>255.152969</td>\n",
       "      <td>6861300</td>\n",
       "    </tr>\n",
       "    <tr>\n",
       "      <th>3</th>\n",
       "      <td>2019-08-06</td>\n",
       "      <td>261.799988</td>\n",
       "      <td>265.149994</td>\n",
       "      <td>260.179993</td>\n",
       "      <td>264.679993</td>\n",
       "      <td>262.941498</td>\n",
       "      <td>4918500</td>\n",
       "    </tr>\n",
       "    <tr>\n",
       "      <th>4</th>\n",
       "      <td>2019-08-07</td>\n",
       "      <td>263.399994</td>\n",
       "      <td>270.000000</td>\n",
       "      <td>260.250000</td>\n",
       "      <td>269.309998</td>\n",
       "      <td>267.541077</td>\n",
       "      <td>4476000</td>\n",
       "    </tr>\n",
       "    <tr>\n",
       "      <th>5</th>\n",
       "      <td>2019-08-08</td>\n",
       "      <td>272.000000</td>\n",
       "      <td>278.079987</td>\n",
       "      <td>271.600006</td>\n",
       "      <td>278.040009</td>\n",
       "      <td>276.213745</td>\n",
       "      <td>4135500</td>\n",
       "    </tr>\n",
       "    <tr>\n",
       "      <th>6</th>\n",
       "      <td>2019-08-09</td>\n",
       "      <td>275.510010</td>\n",
       "      <td>276.899994</td>\n",
       "      <td>273.079987</td>\n",
       "      <td>274.950012</td>\n",
       "      <td>273.144073</td>\n",
       "      <td>3410500</td>\n",
       "    </tr>\n",
       "    <tr>\n",
       "      <th>7</th>\n",
       "      <td>2019-08-12</td>\n",
       "      <td>272.850006</td>\n",
       "      <td>274.980011</td>\n",
       "      <td>268.890015</td>\n",
       "      <td>270.000000</td>\n",
       "      <td>268.226563</td>\n",
       "      <td>3322600</td>\n",
       "    </tr>\n",
       "    <tr>\n",
       "      <th>8</th>\n",
       "      <td>2019-08-13</td>\n",
       "      <td>269.829987</td>\n",
       "      <td>275.369995</td>\n",
       "      <td>268.000000</td>\n",
       "      <td>274.529999</td>\n",
       "      <td>272.726807</td>\n",
       "      <td>3899800</td>\n",
       "    </tr>\n",
       "    <tr>\n",
       "      <th>9</th>\n",
       "      <td>2019-08-14</td>\n",
       "      <td>269.820007</td>\n",
       "      <td>272.470001</td>\n",
       "      <td>265.850006</td>\n",
       "      <td>267.149994</td>\n",
       "      <td>265.395264</td>\n",
       "      <td>3750300</td>\n",
       "    </tr>\n",
       "    <tr>\n",
       "      <th>10</th>\n",
       "      <td>2019-08-15</td>\n",
       "      <td>269.279999</td>\n",
       "      <td>273.149994</td>\n",
       "      <td>268.089996</td>\n",
       "      <td>271.890015</td>\n",
       "      <td>270.104156</td>\n",
       "      <td>3364300</td>\n",
       "    </tr>\n",
       "    <tr>\n",
       "      <th>11</th>\n",
       "      <td>2019-08-16</td>\n",
       "      <td>274.980011</td>\n",
       "      <td>275.959991</td>\n",
       "      <td>273.790009</td>\n",
       "      <td>274.359985</td>\n",
       "      <td>272.557861</td>\n",
       "      <td>2718100</td>\n",
       "    </tr>\n",
       "    <tr>\n",
       "      <th>12</th>\n",
       "      <td>2019-08-19</td>\n",
       "      <td>277.000000</td>\n",
       "      <td>278.570007</td>\n",
       "      <td>275.209991</td>\n",
       "      <td>278.070007</td>\n",
       "      <td>276.243530</td>\n",
       "      <td>2502300</td>\n",
       "    </tr>\n",
       "    <tr>\n",
       "      <th>13</th>\n",
       "      <td>2019-08-20</td>\n",
       "      <td>278.399994</td>\n",
       "      <td>279.559998</td>\n",
       "      <td>275.850006</td>\n",
       "      <td>277.040009</td>\n",
       "      <td>275.220306</td>\n",
       "      <td>2583600</td>\n",
       "    </tr>\n",
       "    <tr>\n",
       "      <th>14</th>\n",
       "      <td>2019-08-21</td>\n",
       "      <td>279.640015</td>\n",
       "      <td>282.100006</td>\n",
       "      <td>279.290009</td>\n",
       "      <td>282.010010</td>\n",
       "      <td>280.157654</td>\n",
       "      <td>2492200</td>\n",
       "    </tr>\n",
       "    <tr>\n",
       "      <th>15</th>\n",
       "      <td>2019-08-22</td>\n",
       "      <td>282.109985</td>\n",
       "      <td>282.890015</td>\n",
       "      <td>276.760010</td>\n",
       "      <td>280.769989</td>\n",
       "      <td>278.925812</td>\n",
       "      <td>2975800</td>\n",
       "    </tr>\n",
       "    <tr>\n",
       "      <th>16</th>\n",
       "      <td>2019-08-23</td>\n",
       "      <td>280.000000</td>\n",
       "      <td>282.089996</td>\n",
       "      <td>270.209991</td>\n",
       "      <td>271.890015</td>\n",
       "      <td>270.104156</td>\n",
       "      <td>4415000</td>\n",
       "    </tr>\n",
       "    <tr>\n",
       "      <th>17</th>\n",
       "      <td>2019-08-26</td>\n",
       "      <td>274.880005</td>\n",
       "      <td>276.429993</td>\n",
       "      <td>272.980011</td>\n",
       "      <td>276.429993</td>\n",
       "      <td>274.614288</td>\n",
       "      <td>2184400</td>\n",
       "    </tr>\n",
       "    <tr>\n",
       "      <th>18</th>\n",
       "      <td>2019-08-27</td>\n",
       "      <td>276.739990</td>\n",
       "      <td>279.089996</td>\n",
       "      <td>274.910004</td>\n",
       "      <td>276.640015</td>\n",
       "      <td>274.822937</td>\n",
       "      <td>2169400</td>\n",
       "    </tr>\n",
       "    <tr>\n",
       "      <th>19</th>\n",
       "      <td>2019-08-28</td>\n",
       "      <td>275.230011</td>\n",
       "      <td>278.649994</td>\n",
       "      <td>273.369995</td>\n",
       "      <td>278.239990</td>\n",
       "      <td>276.412415</td>\n",
       "      <td>2306900</td>\n",
       "    </tr>\n",
       "    <tr>\n",
       "      <th>20</th>\n",
       "      <td>2019-08-29</td>\n",
       "      <td>281.000000</td>\n",
       "      <td>281.980011</td>\n",
       "      <td>278.880005</td>\n",
       "      <td>281.380005</td>\n",
       "      <td>279.531799</td>\n",
       "      <td>2297200</td>\n",
       "    </tr>\n",
       "    <tr>\n",
       "      <th>21</th>\n",
       "      <td>2019-08-30</td>\n",
       "      <td>282.589996</td>\n",
       "      <td>282.959991</td>\n",
       "      <td>278.730011</td>\n",
       "      <td>281.369995</td>\n",
       "      <td>279.521851</td>\n",
       "      <td>2600300</td>\n",
       "    </tr>\n",
       "  </tbody>\n",
       "</table>\n",
       "</div>"
      ],
      "text/plain": [
       "          Date        Open        High         Low       Close   Adj Close  \\\n",
       "0   2019-08-01  273.929993  279.309998  271.640015  274.160004  272.359222   \n",
       "1   2019-08-02  272.000000  272.500000  265.679993  269.450012  267.680206   \n",
       "2   2019-08-05  260.000000  262.649994  253.899994  256.839996  255.152969   \n",
       "3   2019-08-06  261.799988  265.149994  260.179993  264.679993  262.941498   \n",
       "4   2019-08-07  263.399994  270.000000  260.250000  269.309998  267.541077   \n",
       "5   2019-08-08  272.000000  278.079987  271.600006  278.040009  276.213745   \n",
       "6   2019-08-09  275.510010  276.899994  273.079987  274.950012  273.144073   \n",
       "7   2019-08-12  272.850006  274.980011  268.890015  270.000000  268.226563   \n",
       "8   2019-08-13  269.829987  275.369995  268.000000  274.529999  272.726807   \n",
       "9   2019-08-14  269.820007  272.470001  265.850006  267.149994  265.395264   \n",
       "10  2019-08-15  269.279999  273.149994  268.089996  271.890015  270.104156   \n",
       "11  2019-08-16  274.980011  275.959991  273.790009  274.359985  272.557861   \n",
       "12  2019-08-19  277.000000  278.570007  275.209991  278.070007  276.243530   \n",
       "13  2019-08-20  278.399994  279.559998  275.850006  277.040009  275.220306   \n",
       "14  2019-08-21  279.640015  282.100006  279.290009  282.010010  280.157654   \n",
       "15  2019-08-22  282.109985  282.890015  276.760010  280.769989  278.925812   \n",
       "16  2019-08-23  280.000000  282.089996  270.209991  271.890015  270.104156   \n",
       "17  2019-08-26  274.880005  276.429993  272.980011  276.429993  274.614288   \n",
       "18  2019-08-27  276.739990  279.089996  274.910004  276.640015  274.822937   \n",
       "19  2019-08-28  275.230011  278.649994  273.369995  278.239990  276.412415   \n",
       "20  2019-08-29  281.000000  281.980011  278.880005  281.380005  279.531799   \n",
       "21  2019-08-30  282.589996  282.959991  278.730011  281.369995  279.521851   \n",
       "\n",
       "     Volume  \n",
       "0   4988100  \n",
       "1   4438000  \n",
       "2   6861300  \n",
       "3   4918500  \n",
       "4   4476000  \n",
       "5   4135500  \n",
       "6   3410500  \n",
       "7   3322600  \n",
       "8   3899800  \n",
       "9   3750300  \n",
       "10  3364300  \n",
       "11  2718100  \n",
       "12  2502300  \n",
       "13  2583600  \n",
       "14  2492200  \n",
       "15  2975800  \n",
       "16  4415000  \n",
       "17  2184400  \n",
       "18  2169400  \n",
       "19  2306900  \n",
       "20  2297200  \n",
       "21  2600300  "
      ]
     },
     "execution_count": 28,
     "metadata": {},
     "output_type": "execute_result"
    }
   ],
   "source": [
    "# Getting the real stock price for January 1st 2009 - \n",
    "# December 31st 2019\n",
    "\n",
    "dataset_test = pd.read_csv('Mastercard_Test.csv')\n",
    "dataset_test"
   ]
  },
  {
   "cell_type": "code",
   "execution_count": 29,
   "metadata": {},
   "outputs": [
    {
     "data": {
      "text/plain": [
       "22"
      ]
     },
     "execution_count": 29,
     "metadata": {},
     "output_type": "execute_result"
    }
   ],
   "source": [
    "real_stock_price = dataset_test.iloc[:, 1:2].values\n",
    "real_stock_price.size"
   ]
  },
  {
   "cell_type": "code",
   "execution_count": 30,
   "metadata": {},
   "outputs": [
    {
     "data": {
      "text/plain": [
       "array([[273.929993],\n",
       "       [272.      ],\n",
       "       [260.      ],\n",
       "       [261.799988],\n",
       "       [263.399994],\n",
       "       [272.      ],\n",
       "       [275.51001 ],\n",
       "       [272.850006],\n",
       "       [269.829987],\n",
       "       [269.820007],\n",
       "       [269.279999],\n",
       "       [274.980011],\n",
       "       [277.      ],\n",
       "       [278.399994],\n",
       "       [279.640015],\n",
       "       [282.109985],\n",
       "       [280.      ],\n",
       "       [274.880005],\n",
       "       [276.73999 ],\n",
       "       [275.230011],\n",
       "       [281.      ],\n",
       "       [282.589996]])"
      ]
     },
     "execution_count": 30,
     "metadata": {},
     "output_type": "execute_result"
    }
   ],
   "source": [
    "real_stock_price"
   ]
  },
  {
   "cell_type": "markdown",
   "metadata": {},
   "source": [
    "To predict the stock price value for each day in January 2017, we need the values in the last 60 days.\n",
    "\n",
    "To obtain this **history** we need to combine both the training and test sets in one.\n",
    "\n",
    "If we were to use the training_set and test_set we would need to use the scaler  but that would change the actual test values.  Thus concatenate the original data frames!\n"
   ]
  },
  {
   "cell_type": "code",
   "execution_count": 31,
   "metadata": {},
   "outputs": [],
   "source": [
    "# Getting the predicted stock price of 2019\n",
    "\n",
    "# axis = 0 means concatenate the lines (i.e. vertical axis)\n",
    "dataset_total = pd.concat((dataset_train['Open'], dataset_test['Open']), axis = 0) "
   ]
  },
  {
   "cell_type": "code",
   "execution_count": 32,
   "metadata": {},
   "outputs": [
    {
     "data": {
      "text/plain": [
       "2683"
      ]
     },
     "execution_count": 32,
     "metadata": {},
     "output_type": "execute_result"
    }
   ],
   "source": [
    "dataset_total.size\n"
   ]
  },
  {
   "cell_type": "code",
   "execution_count": 33,
   "metadata": {},
   "outputs": [],
   "source": [
    "# the difference in the length of the first two gives us \n",
    "# the first day in 2019, and we need to go back 90 days to get the necessary range\n",
    "inputs = dataset_total[len(dataset_total) - len(dataset_test) - 90:].values"
   ]
  },
  {
   "cell_type": "code",
   "execution_count": 34,
   "metadata": {},
   "outputs": [
    {
     "data": {
      "text/plain": [
       "112"
      ]
     },
     "execution_count": 34,
     "metadata": {},
     "output_type": "execute_result"
    }
   ],
   "source": [
    "inputs.size"
   ]
  },
  {
   "cell_type": "code",
   "execution_count": 35,
   "metadata": {},
   "outputs": [],
   "source": [
    "# we did not use iloc from panda so lets reshape the numpy array for \n",
    "# compatibility: i.e. all the values from input lines to be stacked in one \n",
    "# column. The -1 means that the numpy has no knowledge of how the \n",
    "# values were stored in lines. The 1 means we want to them in one \n",
    "# column.\n",
    "\n",
    "inputs = inputs.reshape(-1,1) \n",
    "\n",
    "# apply the feature scaler\n",
    "inputs = sc.transform(inputs)"
   ]
  },
  {
   "cell_type": "markdown",
   "metadata": {},
   "source": [
    "1. For each price in Jan. 2017 we need the **immediate 60 values** before it. \n",
    "2. We have 21 prices in January;\n",
    "3. We need a numpy 3D array of 60 prices (columns) times 21 days (rows) times 1 dependent variable \n",
    "4. We don’t need y_test. That is what we are trying to compute!\n"
   ]
  },
  {
   "cell_type": "code",
   "execution_count": 36,
   "metadata": {},
   "outputs": [],
   "source": [
    "# Getting the predicted stock price of 2019\n",
    "X_test = []"
   ]
  },
  {
   "cell_type": "code",
   "execution_count": 37,
   "metadata": {},
   "outputs": [],
   "source": [
    "# the first 90 from inputs are from training set;\n",
    "for i in range(90, 112): \n",
    "    X_test.append(inputs[i-90:i, 0])\n"
   ]
  },
  {
   "cell_type": "code",
   "execution_count": 38,
   "metadata": {},
   "outputs": [],
   "source": [
    "X_test = np.array(X_test) # not 3D structure yet"
   ]
  },
  {
   "cell_type": "code",
   "execution_count": 39,
   "metadata": {},
   "outputs": [],
   "source": [
    "# create a 3D structure\n",
    "X_test = np.reshape(X_test, (X_test.shape[0], X_test.shape[1], 1))"
   ]
  },
  {
   "cell_type": "code",
   "execution_count": 40,
   "metadata": {},
   "outputs": [],
   "source": [
    "predicted_stock_price = regressor.predict(X_test)"
   ]
  },
  {
   "cell_type": "code",
   "execution_count": 41,
   "metadata": {},
   "outputs": [
    {
     "data": {
      "text/plain": [
       "22"
      ]
     },
     "execution_count": 41,
     "metadata": {},
     "output_type": "execute_result"
    }
   ],
   "source": [
    "# need to inverse the scaling\n",
    "predicted_stock_price = sc.inverse_transform(predicted_stock_price) \n",
    "predicted_stock_price.size"
   ]
  },
  {
   "cell_type": "markdown",
   "metadata": {},
   "source": [
    "### Result Visualization\n"
   ]
  },
  {
   "cell_type": "code",
   "execution_count": 42,
   "metadata": {},
   "outputs": [
    {
     "data": {
      "image/png": "[encoded data removed]",
      "text/plain": [
       "<Figure size 432x288 with 1 Axes>"
      ]
     },
     "metadata": {
      "needs_background": "light"
     },
     "output_type": "display_data"
    }
   ],
   "source": [
    "# Visualising the results\n",
    "\n",
    "plt.plot(real_stock_price, color = 'red', label = 'Real MasterCard Stock Price')\n",
    "\n",
    "plt.plot(predicted_stock_price, color = 'blue', label = 'Predicted MasterCard Stock Price')\n",
    "\n",
    "plt.title('MasterCard Stock Price Prediction')\n",
    "plt.xlabel('Time')\n",
    "plt.ylabel('MasterCard Stock Price')\n",
    "plt.legend()\n",
    "\n",
    "plt.show()"
   ]
  },
  {
   "cell_type": "markdown",
   "metadata": {},
   "source": [
    "The blue line shows the trend of the stock for the month of August 2019. \n",
    "\n",
    "Some observations:\n",
    "- The prediction lags behind the actual price curve because the model cannot react to fast non-linear changes. Spikes are examples of fast non-linear changes\n",
    "- Model reacts pretty well to smooth changes"
   ]
  },
  {
   "cell_type": "markdown",
   "metadata": {},
   "source": [
    "### Compute the RMSE\n",
    "\n",
    "If we need to compute the RMSE for our Stock Price Prediction problem, we use the real stock price and predicted stock price as shown.\n",
    "\n",
    "Then consider dividing this RMSE by the range of the MasterCard Stock Price values of January 2017 to get a relative error, as opposed to an absolute error. \n"
   ]
  },
  {
   "cell_type": "code",
   "execution_count": 43,
   "metadata": {},
   "outputs": [],
   "source": [
    "#import the libraries\n",
    "import math\n",
    "from sklearn.metrics import mean_squared_error"
   ]
  },
  {
   "cell_type": "code",
   "execution_count": 44,
   "metadata": {},
   "outputs": [
    {
     "data": {
      "text/plain": [
       "6.698434846147163"
      ]
     },
     "execution_count": 44,
     "metadata": {},
     "output_type": "execute_result"
    }
   ],
   "source": [
    "rmse = math.sqrt( mean_squared_error( real_stock_price[0:24,:], predicted_stock_price))\n",
    "rmse"
   ]
  },
  {
   "cell_type": "markdown",
   "metadata": {},
   "source": [
    "## Improving the RNN"
   ]
  },
  {
   "cell_type": "markdown",
   "metadata": {},
   "source": [
    "The new data need to be placed in the same order/format  as in the case of the training/test sets.\n",
    "\n",
    "1. Getting more training data: we trained our model on the past 5 years of the  Google Stock Price but it would be even better to train it on the past 10 years.\n",
    "\n",
    "2. Increasing the number of time steps: the model remembered the stock price from the 60 previous financial days to predict the stock price of the next day. That’s because we chose a number of 60 time steps (3 months). You could try to increase the number of time steps, by choosing for example 120 time steps (6 months).\n",
    "\n",
    "3. Adding some other indicators: if you have the financial instinct that the stock price of some other companies might be correlated to the one of Google, you could add this other stock price as a new indicator in the training data.\n",
    "\n",
    "4. Adding more LSTM layers: we built a RNN with four LSTM layers but you could try with even more.\n",
    "\n",
    "5. Adding more neurons in the LSTM layers: we highlighted the fact that we needed a high number of neurons in the LSTM layers to respond better to the complexity of the problem and we chose to include 50 neurons in each of our 4 LSTM layers. You could try an architecture with even more neurons in each of the 4 (or more) LSTM layers."
   ]
  },
  {
   "cell_type": "markdown",
   "metadata": {},
   "source": [
    "### Fine tuning the RNN\n",
    "\n",
    "Parameter Tuning on the RNN model: we are dealing with a Regression problem because we predict a continuous outcome.\n",
    "\n",
    "**Tip**: replace: scoring = 'accuracy' by scoring = 'neg_mean_squared_error' in the GridSearchCV class parameters as we did in the ANN case."
   ]
  },
  {
   "cell_type": "code",
   "execution_count": null,
   "metadata": {},
   "outputs": [],
   "source": []
  }
 ],
 "metadata": {
  "kernelspec": {
   "display_name": "Python 3",
   "language": "python",
   "name": "python3"
  },
  "language_info": {
   "codemirror_mode": {
    "name": "ipython",
    "version": 3
   },
   "file_extension": ".py",
   "mimetype": "text/x-python",
   "name": "python",
   "nbconvert_exporter": "python",
   "pygments_lexer": "ipython3",
   "version": "3.8.5"
  }
 },
 "nbformat": 4,
 "nbformat_minor": 2
}
